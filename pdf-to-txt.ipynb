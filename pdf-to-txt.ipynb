{
 "cells": [
  {
   "cell_type": "code",
   "execution_count": 1,
   "metadata": {},
   "outputs": [
    {
     "name": "stdout",
     "output_type": "stream",
     "text": [
      "Requirement already satisfied: pdfminer.six in /opt/anaconda3/lib/python3.8/site-packages (20221105)\n",
      "Requirement already satisfied: cryptography>=36.0.0 in /opt/anaconda3/lib/python3.8/site-packages (from pdfminer.six) (39.0.0)\n",
      "Requirement already satisfied: charset-normalizer>=2.0.0 in /opt/anaconda3/lib/python3.8/site-packages (from pdfminer.six) (2.1.1)\n",
      "Requirement already satisfied: cffi>=1.12 in /opt/anaconda3/lib/python3.8/site-packages (from cryptography>=36.0.0->pdfminer.six) (1.14.5)\n",
      "Requirement already satisfied: pycparser in /opt/anaconda3/lib/python3.8/site-packages (from cffi>=1.12->cryptography>=36.0.0->pdfminer.six) (2.20)\n",
      "Note: you may need to restart the kernel to use updated packages.\n"
     ]
    }
   ],
   "source": [
    "pip install pdfminer.six"
   ]
  },
  {
   "attachments": {},
   "cell_type": "markdown",
   "metadata": {},
   "source": [
    "### Without Preprocessing"
   ]
  },
  {
   "cell_type": "code",
   "execution_count": null,
   "metadata": {},
   "outputs": [],
   "source": [
    "import json\n",
    "import os\n",
    "from pdf_plaintext_conversion import pdf_to_text\n",
    "\n",
    "pdf_folder_path = \"path to load pdfs\"\n",
    "txt_folder_path = \"path to save processed text files\"\n",
    "for filename in os.listdir(pdf_folder_path):\n",
    "    pdf_file_path = os.path.join(pdf_folder_path, filename)\n",
    "    if os.path.isfile(pdf_file_path):\n",
    "        if os.path.splitext(pdf_file_path)[1] == \".pdf\":\n",
    "            resume_text = pdf_to_text(pdf_file_path)\n",
    "            txt_file_path = os.path.join(txt_folder_path, filename[:-3] + \"txt\")\n",
    "            with open(txt_file_path, \"w\") as f:\n",
    "                f.write(resume_text)\n",
    "        "
   ]
  },
  {
   "attachments": {},
   "cell_type": "markdown",
   "metadata": {},
   "source": [
    "### With Preprocessing"
   ]
  },
  {
   "cell_type": "code",
   "execution_count": 4,
   "metadata": {},
   "outputs": [],
   "source": [
    "import re\n",
    "# bad_chars = ['•']\n",
    "def clean(text):\n",
    "    # text = text.replace('•', ' ')\n",
    "    text = re.sub(r\"[\\uf000-\\uffff]\", \"\", text)\n",
    "    # text = re.sub('\\s+', ' ', text)\n",
    "    return text\n"
   ]
  },
  {
   "cell_type": "code",
   "execution_count": 3,
   "metadata": {},
   "outputs": [],
   "source": [
    "def remove_punctuation(text):\n",
    "  # Function to remove punctuation in text except ',' and '-'\n",
    "  punc = '''!()[]{};:'\"\\<>./?@#$%^&*_~§'''\n",
    "  for element in text:\n",
    "    if element in punc:\n",
    "      text = text.replace(element, \" \")\n",
    "  return text\n",
    "\n",
    "def remove_email(text):\n",
    "  try:\n",
    "    match = re.findall(r'[\\w.+-]+@[\\w-]+\\.[\\w.-]+', text)\n",
    "    for email in match:\n",
    "      text = text.replace(email, \"\")\n",
    "    return text\n",
    "  except:\n",
    "    return text"
   ]
  },
  {
   "cell_type": "code",
   "execution_count": 6,
   "metadata": {},
   "outputs": [],
   "source": [
    "pdf_folder_path = \"folder path to load pdfs\"\n",
    "txt_folder_path = \"folder path to save processed text files\"\n",
    "for filename in os.listdir(pdf_folder_path):\n",
    "    pdf_file_path = os.path.join(pdf_folder_path, filename)\n",
    "    if os.path.isfile(pdf_file_path):\n",
    "        if os.path.splitext(pdf_file_path)[1] == \".pdf\":\n",
    "            resume_text = pdf_to_text(pdf_file_path)\n",
    "            if resume_text == '' or resume_text == '\\x0c':\n",
    "                break\n",
    "            resume_text = clean(resume_text)\n",
    "            txt_file_path = os.path.join(txt_folder_path, filename[:-3] + \"txt\")\n",
    "            with open(txt_file_path, \"w\") as f:\n",
    "                f.write(resume_text)"
   ]
  }
 ],
 "metadata": {
  "kernelspec": {
   "display_name": "base",
   "language": "python",
   "name": "python3"
  },
  "language_info": {
   "codemirror_mode": {
    "name": "ipython",
    "version": 3
   },
   "file_extension": ".py",
   "mimetype": "text/x-python",
   "name": "python",
   "nbconvert_exporter": "python",
   "pygments_lexer": "ipython3",
   "version": "3.8.8"
  },
  "orig_nbformat": 4,
  "vscode": {
   "interpreter": {
    "hash": "40d3a090f54c6569ab1632332b64b2c03c39dcf918b08424e98f38b5ae0af88f"
   }
  }
 },
 "nbformat": 4,
 "nbformat_minor": 2
}
